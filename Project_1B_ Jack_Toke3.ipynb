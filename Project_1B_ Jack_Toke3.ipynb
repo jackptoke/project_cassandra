{
 "cells": [
  {
   "cell_type": "markdown",
   "metadata": {},
   "source": [
    "# Part I. ETL Pipeline for Pre-Processing the Files"
   ]
  },
  {
   "cell_type": "markdown",
   "metadata": {},
   "source": [
    "#### Import Python packages "
   ]
  },
  {
   "cell_type": "code",
   "execution_count": 69,
   "metadata": {},
   "outputs": [],
   "source": [
    "# Import Python packages \n",
    "import pandas as pd\n",
    "import cassandra\n",
    "import re\n",
    "import os\n",
    "import glob\n",
    "import numpy as np\n",
    "import json\n",
    "import csv"
   ]
  },
  {
   "cell_type": "markdown",
   "metadata": {},
   "source": [
    "#### Get all the source files"
   ]
  },
  {
   "cell_type": "code",
   "execution_count": 70,
   "metadata": {},
   "outputs": [
    {
     "name": "stdout",
     "output_type": "stream",
     "text": [
      "/workspace/home\n"
     ]
    },
    {
     "data": {
      "text/html": [
       "<style  type=\"text/css\" >\n",
       "</style>  \n",
       "<table id=\"T_819923bc_ce3c_11ee_96a6_ce0f5be9cef9\" > \n",
       "<thead>    <tr> \n",
       "        <th class=\"blank level0\" ></th> \n",
       "        <th class=\"col_heading level0 col0\" >File Uri</th> \n",
       "    </tr></thead> \n",
       "<tbody>    <tr> \n",
       "        <th id=\"T_819923bc_ce3c_11ee_96a6_ce0f5be9cef9level0_row0\" class=\"row_heading level0 row0\" >1</th> \n",
       "        <td id=\"T_819923bc_ce3c_11ee_96a6_ce0f5be9cef9row0_col0\" class=\"data row0 col0\" >/workspace/home/event_data/2018-11-10-events.csv</td> \n",
       "    </tr>    <tr> \n",
       "        <th id=\"T_819923bc_ce3c_11ee_96a6_ce0f5be9cef9level0_row1\" class=\"row_heading level0 row1\" >2</th> \n",
       "        <td id=\"T_819923bc_ce3c_11ee_96a6_ce0f5be9cef9row1_col0\" class=\"data row1 col0\" >/workspace/home/event_data/2018-11-20-events.csv</td> \n",
       "    </tr>    <tr> \n",
       "        <th id=\"T_819923bc_ce3c_11ee_96a6_ce0f5be9cef9level0_row2\" class=\"row_heading level0 row2\" >3</th> \n",
       "        <td id=\"T_819923bc_ce3c_11ee_96a6_ce0f5be9cef9row2_col0\" class=\"data row2 col0\" >/workspace/home/event_data/2018-11-09-events.csv</td> \n",
       "    </tr>    <tr> \n",
       "        <th id=\"T_819923bc_ce3c_11ee_96a6_ce0f5be9cef9level0_row3\" class=\"row_heading level0 row3\" >4</th> \n",
       "        <td id=\"T_819923bc_ce3c_11ee_96a6_ce0f5be9cef9row3_col0\" class=\"data row3 col0\" >/workspace/home/event_data/2018-11-11-events.csv</td> \n",
       "    </tr>    <tr> \n",
       "        <th id=\"T_819923bc_ce3c_11ee_96a6_ce0f5be9cef9level0_row4\" class=\"row_heading level0 row4\" >5</th> \n",
       "        <td id=\"T_819923bc_ce3c_11ee_96a6_ce0f5be9cef9row4_col0\" class=\"data row4 col0\" >/workspace/home/event_data/2018-11-07-events.csv</td> \n",
       "    </tr>    <tr> \n",
       "        <th id=\"T_819923bc_ce3c_11ee_96a6_ce0f5be9cef9level0_row5\" class=\"row_heading level0 row5\" >6</th> \n",
       "        <td id=\"T_819923bc_ce3c_11ee_96a6_ce0f5be9cef9row5_col0\" class=\"data row5 col0\" >/workspace/home/event_data/2018-11-27-events.csv</td> \n",
       "    </tr>    <tr> \n",
       "        <th id=\"T_819923bc_ce3c_11ee_96a6_ce0f5be9cef9level0_row6\" class=\"row_heading level0 row6\" >7</th> \n",
       "        <td id=\"T_819923bc_ce3c_11ee_96a6_ce0f5be9cef9row6_col0\" class=\"data row6 col0\" >/workspace/home/event_data/2018-11-21-events.csv</td> \n",
       "    </tr>    <tr> \n",
       "        <th id=\"T_819923bc_ce3c_11ee_96a6_ce0f5be9cef9level0_row7\" class=\"row_heading level0 row7\" >8</th> \n",
       "        <td id=\"T_819923bc_ce3c_11ee_96a6_ce0f5be9cef9row7_col0\" class=\"data row7 col0\" >/workspace/home/event_data/2018-11-15-events.csv</td> \n",
       "    </tr>    <tr> \n",
       "        <th id=\"T_819923bc_ce3c_11ee_96a6_ce0f5be9cef9level0_row8\" class=\"row_heading level0 row8\" >9</th> \n",
       "        <td id=\"T_819923bc_ce3c_11ee_96a6_ce0f5be9cef9row8_col0\" class=\"data row8 col0\" >/workspace/home/event_data/2018-11-17-events.csv</td> \n",
       "    </tr>    <tr> \n",
       "        <th id=\"T_819923bc_ce3c_11ee_96a6_ce0f5be9cef9level0_row9\" class=\"row_heading level0 row9\" >10</th> \n",
       "        <td id=\"T_819923bc_ce3c_11ee_96a6_ce0f5be9cef9row9_col0\" class=\"data row9 col0\" >/workspace/home/event_data/2018-11-06-events.csv</td> \n",
       "    </tr>    <tr> \n",
       "        <th id=\"T_819923bc_ce3c_11ee_96a6_ce0f5be9cef9level0_row10\" class=\"row_heading level0 row10\" >11</th> \n",
       "        <td id=\"T_819923bc_ce3c_11ee_96a6_ce0f5be9cef9row10_col0\" class=\"data row10 col0\" >/workspace/home/event_data/2018-11-24-events.csv</td> \n",
       "    </tr>    <tr> \n",
       "        <th id=\"T_819923bc_ce3c_11ee_96a6_ce0f5be9cef9level0_row11\" class=\"row_heading level0 row11\" >12</th> \n",
       "        <td id=\"T_819923bc_ce3c_11ee_96a6_ce0f5be9cef9row11_col0\" class=\"data row11 col0\" >/workspace/home/event_data/2018-11-23-events.csv</td> \n",
       "    </tr>    <tr> \n",
       "        <th id=\"T_819923bc_ce3c_11ee_96a6_ce0f5be9cef9level0_row12\" class=\"row_heading level0 row12\" >13</th> \n",
       "        <td id=\"T_819923bc_ce3c_11ee_96a6_ce0f5be9cef9row12_col0\" class=\"data row12 col0\" >/workspace/home/event_data/2018-11-04-events.csv</td> \n",
       "    </tr>    <tr> \n",
       "        <th id=\"T_819923bc_ce3c_11ee_96a6_ce0f5be9cef9level0_row13\" class=\"row_heading level0 row13\" >14</th> \n",
       "        <td id=\"T_819923bc_ce3c_11ee_96a6_ce0f5be9cef9row13_col0\" class=\"data row13 col0\" >/workspace/home/event_data/2018-11-30-events.csv</td> \n",
       "    </tr>    <tr> \n",
       "        <th id=\"T_819923bc_ce3c_11ee_96a6_ce0f5be9cef9level0_row14\" class=\"row_heading level0 row14\" >15</th> \n",
       "        <td id=\"T_819923bc_ce3c_11ee_96a6_ce0f5be9cef9row14_col0\" class=\"data row14 col0\" >/workspace/home/event_data/2018-11-29-events.csv</td> \n",
       "    </tr>    <tr> \n",
       "        <th id=\"T_819923bc_ce3c_11ee_96a6_ce0f5be9cef9level0_row15\" class=\"row_heading level0 row15\" >16</th> \n",
       "        <td id=\"T_819923bc_ce3c_11ee_96a6_ce0f5be9cef9row15_col0\" class=\"data row15 col0\" >/workspace/home/event_data/2018-11-01-events.csv</td> \n",
       "    </tr>    <tr> \n",
       "        <th id=\"T_819923bc_ce3c_11ee_96a6_ce0f5be9cef9level0_row16\" class=\"row_heading level0 row16\" >17</th> \n",
       "        <td id=\"T_819923bc_ce3c_11ee_96a6_ce0f5be9cef9row16_col0\" class=\"data row16 col0\" >/workspace/home/event_data/2018-11-16-events.csv</td> \n",
       "    </tr>    <tr> \n",
       "        <th id=\"T_819923bc_ce3c_11ee_96a6_ce0f5be9cef9level0_row17\" class=\"row_heading level0 row17\" >18</th> \n",
       "        <td id=\"T_819923bc_ce3c_11ee_96a6_ce0f5be9cef9row17_col0\" class=\"data row17 col0\" >/workspace/home/event_data/2018-11-02-events.csv</td> \n",
       "    </tr>    <tr> \n",
       "        <th id=\"T_819923bc_ce3c_11ee_96a6_ce0f5be9cef9level0_row18\" class=\"row_heading level0 row18\" >19</th> \n",
       "        <td id=\"T_819923bc_ce3c_11ee_96a6_ce0f5be9cef9row18_col0\" class=\"data row18 col0\" >/workspace/home/event_data/2018-11-13-events.csv</td> \n",
       "    </tr>    <tr> \n",
       "        <th id=\"T_819923bc_ce3c_11ee_96a6_ce0f5be9cef9level0_row19\" class=\"row_heading level0 row19\" >20</th> \n",
       "        <td id=\"T_819923bc_ce3c_11ee_96a6_ce0f5be9cef9row19_col0\" class=\"data row19 col0\" >/workspace/home/event_data/2018-11-08-events.csv</td> \n",
       "    </tr>    <tr> \n",
       "        <th id=\"T_819923bc_ce3c_11ee_96a6_ce0f5be9cef9level0_row20\" class=\"row_heading level0 row20\" >21</th> \n",
       "        <td id=\"T_819923bc_ce3c_11ee_96a6_ce0f5be9cef9row20_col0\" class=\"data row20 col0\" >/workspace/home/event_data/2018-11-12-events.csv</td> \n",
       "    </tr>    <tr> \n",
       "        <th id=\"T_819923bc_ce3c_11ee_96a6_ce0f5be9cef9level0_row21\" class=\"row_heading level0 row21\" >22</th> \n",
       "        <td id=\"T_819923bc_ce3c_11ee_96a6_ce0f5be9cef9row21_col0\" class=\"data row21 col0\" >/workspace/home/event_data/2018-11-28-events.csv</td> \n",
       "    </tr>    <tr> \n",
       "        <th id=\"T_819923bc_ce3c_11ee_96a6_ce0f5be9cef9level0_row22\" class=\"row_heading level0 row22\" >23</th> \n",
       "        <td id=\"T_819923bc_ce3c_11ee_96a6_ce0f5be9cef9row22_col0\" class=\"data row22 col0\" >/workspace/home/event_data/2018-11-19-events.csv</td> \n",
       "    </tr>    <tr> \n",
       "        <th id=\"T_819923bc_ce3c_11ee_96a6_ce0f5be9cef9level0_row23\" class=\"row_heading level0 row23\" >24</th> \n",
       "        <td id=\"T_819923bc_ce3c_11ee_96a6_ce0f5be9cef9row23_col0\" class=\"data row23 col0\" >/workspace/home/event_data/2018-11-18-events.csv</td> \n",
       "    </tr>    <tr> \n",
       "        <th id=\"T_819923bc_ce3c_11ee_96a6_ce0f5be9cef9level0_row24\" class=\"row_heading level0 row24\" >25</th> \n",
       "        <td id=\"T_819923bc_ce3c_11ee_96a6_ce0f5be9cef9row24_col0\" class=\"data row24 col0\" >/workspace/home/event_data/2018-11-26-events.csv</td> \n",
       "    </tr>    <tr> \n",
       "        <th id=\"T_819923bc_ce3c_11ee_96a6_ce0f5be9cef9level0_row25\" class=\"row_heading level0 row25\" >26</th> \n",
       "        <td id=\"T_819923bc_ce3c_11ee_96a6_ce0f5be9cef9row25_col0\" class=\"data row25 col0\" >/workspace/home/event_data/2018-11-25-events.csv</td> \n",
       "    </tr>    <tr> \n",
       "        <th id=\"T_819923bc_ce3c_11ee_96a6_ce0f5be9cef9level0_row26\" class=\"row_heading level0 row26\" >27</th> \n",
       "        <td id=\"T_819923bc_ce3c_11ee_96a6_ce0f5be9cef9row26_col0\" class=\"data row26 col0\" >/workspace/home/event_data/2018-11-05-events.csv</td> \n",
       "    </tr>    <tr> \n",
       "        <th id=\"T_819923bc_ce3c_11ee_96a6_ce0f5be9cef9level0_row27\" class=\"row_heading level0 row27\" >28</th> \n",
       "        <td id=\"T_819923bc_ce3c_11ee_96a6_ce0f5be9cef9row27_col0\" class=\"data row27 col0\" >/workspace/home/event_data/2018-11-03-events.csv</td> \n",
       "    </tr>    <tr> \n",
       "        <th id=\"T_819923bc_ce3c_11ee_96a6_ce0f5be9cef9level0_row28\" class=\"row_heading level0 row28\" >29</th> \n",
       "        <td id=\"T_819923bc_ce3c_11ee_96a6_ce0f5be9cef9row28_col0\" class=\"data row28 col0\" >/workspace/home/event_data/2018-11-14-events.csv</td> \n",
       "    </tr>    <tr> \n",
       "        <th id=\"T_819923bc_ce3c_11ee_96a6_ce0f5be9cef9level0_row29\" class=\"row_heading level0 row29\" >30</th> \n",
       "        <td id=\"T_819923bc_ce3c_11ee_96a6_ce0f5be9cef9row29_col0\" class=\"data row29 col0\" >/workspace/home/event_data/2018-11-22-events.csv</td> \n",
       "    </tr></tbody> \n",
       "</table> "
      ],
      "text/plain": [
       "<pandas.io.formats.style.Styler at 0x7f21c0d195c0>"
      ]
     },
     "execution_count": 70,
     "metadata": {},
     "output_type": "execute_result"
    }
   ],
   "source": [
    "# Check the current working directory\n",
    "print(os.getcwd())\n",
    "\n",
    "# Collect all the files inside the 'event_data' folder\n",
    "filepath = os.getcwd() + '/event_data'\n",
    "for root, dirs, files in os.walk(filepath):    \n",
    "    file_path_list = glob.glob(os.path.join(root,'*'))\n",
    "    files = pd.DataFrame(file_path_list, columns=['File Uri'])\n",
    "    files = files.rename(index = lambda x: x + 1)\n",
    "    \n",
    "files.style"
   ]
  },
  {
   "cell_type": "markdown",
   "metadata": {},
   "source": [
    "#### Pre-processing the files to create the data file csv that will be used for Apache Casssandra tables"
   ]
  },
  {
   "cell_type": "code",
   "execution_count": 71,
   "metadata": {},
   "outputs": [
    {
     "name": "stdout",
     "output_type": "stream",
     "text": [
      "DONE!\n"
     ]
    }
   ],
   "source": [
    "# initiating an empty list of rows that will be generated from each file\n",
    "full_data_rows_list = [] \n",
    "    \n",
    "# Read each line in each file and append them \n",
    "# in the emplty list initialised above\n",
    "for f in file_path_list:\n",
    "    with open(f, 'r', encoding = 'utf8', newline='') as csvfile: \n",
    "        # creating a csv reader object \n",
    "        csvreader = csv.reader(csvfile) \n",
    "        next(csvreader)       \n",
    "        for line in csvreader:\n",
    "            full_data_rows_list.append(line) \n",
    "            \n",
    "# Collect the data we are interested into a new file called 'event_datafile_new.csv'\n",
    "csv.register_dialect('myDialect', quoting=csv.QUOTE_ALL, skipinitialspace=True)\n",
    "\n",
    "with open('event_datafile_new.csv', 'w', encoding = 'utf8', newline='') as f:\n",
    "    writer = csv.writer(f, dialect='myDialect')\n",
    "    # write the column headers as the first row of the CSV\n",
    "    writer.writerow(['artist','firstName','gender','itemInSession','lastName','length',\\\n",
    "                'level','location','sessionId','song','userId'])\n",
    "    # write the rest of the data line by line\n",
    "    for row in full_data_rows_list:\n",
    "        if (row[0] == ''):\n",
    "            continue\n",
    "        writer.writerow((row[0], row[2], row[3], row[4], row[5], row[6], row[7], row[8], row[12], row[13], row[16]))\n",
    "print('DONE!')"
   ]
  },
  {
   "cell_type": "code",
   "execution_count": 72,
   "metadata": {},
   "outputs": [
    {
     "name": "stdout",
     "output_type": "stream",
     "text": [
      "6821\n"
     ]
    }
   ],
   "source": [
    "# check the number of rows the new file contains\n",
    "with open('event_datafile_new.csv', 'r', encoding = 'utf8') as f:\n",
    "    print(sum(1 for line in f))\n"
   ]
  },
  {
   "cell_type": "markdown",
   "metadata": {},
   "source": [
    "# Part II. Extracting the data prepared above into Cassandra database. \n",
    "\n",
    "## The event_datafile_new.csv contains the following columns: \n",
    "- artist \n",
    "- firstName of user\n",
    "- gender of user\n",
    "- item number in session\n",
    "- last name of user\n",
    "- length of the song\n",
    "- level (paid or free song)\n",
    "- location of the user\n",
    "- sessionId\n",
    "- song title\n",
    "- userId\n",
    "\n",
    "The image below is a screenshot of what the denormalized data should appear like in the <font color=red>**event_datafile_new.csv**</font> after the code above is run:<br>\n",
    "\n",
    "<img src=\"images/image_event_datafile_new.jpg\">"
   ]
  },
  {
   "cell_type": "markdown",
   "metadata": {},
   "source": [
    "## Begin writing the data into the Apache Cassandra"
   ]
  },
  {
   "cell_type": "code",
   "execution_count": 73,
   "metadata": {},
   "outputs": [
    {
     "name": "stdout",
     "output_type": "stream",
     "text": [
      "Connected!\n"
     ]
    }
   ],
   "source": [
    "# To establish a connection session to a local Cassandra database cluster\n",
    "from cassandra.cluster import Cluster\n",
    "try:\n",
    "    cluster = Cluster(['127.0.0.1'])\n",
    "    session = cluster.connect()\n",
    "    print('Connected!')\n",
    "except Exception as e:\n",
    "    print(e)"
   ]
  },
  {
   "cell_type": "markdown",
   "metadata": {},
   "source": [
    "#### Create Keyspace"
   ]
  },
  {
   "cell_type": "code",
   "execution_count": 74,
   "metadata": {},
   "outputs": [
    {
     "name": "stdout",
     "output_type": "stream",
     "text": [
      "Keyspace Created!\n"
     ]
    }
   ],
   "source": [
    "# Create a Keyspace called 'project1'\n",
    "try:\n",
    "    session.execute(\"\"\"\n",
    "    CREATE KEYSPACE IF NOT EXISTS project1 WITH REPLICATION = { 'class': 'SimpleStrategy', 'replication_factor' : 1}\n",
    "    \"\"\")\n",
    "    print('Keyspace Created!')\n",
    "except Exception as e:\n",
    "    print(e)"
   ]
  },
  {
   "cell_type": "markdown",
   "metadata": {},
   "source": [
    "#### Set Keyspace"
   ]
  },
  {
   "cell_type": "code",
   "execution_count": 75,
   "metadata": {},
   "outputs": [
    {
     "name": "stdout",
     "output_type": "stream",
     "text": [
      "Session SET!\n"
     ]
    }
   ],
   "source": [
    "# TO-DO: Set KEYSPACE to the keyspace specified above\n",
    "try:\n",
    "    session.set_keyspace('project1')\n",
    "    print('Session SET!')\n",
    "except Exception as e:\n",
    "    print(e)"
   ]
  },
  {
   "cell_type": "markdown",
   "metadata": {},
   "source": [
    "## We will model our data and create three tables that will be optimised for each query.\n",
    "\n",
    "### Query 1. Give me the artist, song title and song's length in the music app history that was heard during  sessionId = 338, and itemInSession  = 4\n",
    "\n",
    "#### To satisfy the above query, we will need the sessionId column, itemInSession column, artist column, the song column and the length column.  The primary key of the table are sessionId and itemInSession, since the two columns on their own separately are not sufficient to uniquely identify a table row.  However, together as a composite partition key, they seem to be sufficient"
   ]
  },
  {
   "cell_type": "code",
   "execution_count": 76,
   "metadata": {},
   "outputs": [
    {
     "name": "stdout",
     "output_type": "stream",
     "text": [
      "app_history CREATED!\n"
     ]
    }
   ],
   "source": [
    "query1 = \"\"\"\n",
    "CREATE TABLE IF NOT EXISTS app_history \n",
    "(sessionId INT, itemInSession INT, artist TEXT, song TEXT, length FLOAT, \n",
    "PRIMARY KEY(sessionId, itemInSession));\n",
    "\"\"\"\n",
    "\n",
    "try:\n",
    "    session.execute('DROP TABLE IF EXISTS app_history;')\n",
    "    session.execute(query1)\n",
    "    print('app_history CREATED!')\n",
    "except Exception as e:\n",
    "    print(e)\n",
    "                    "
   ]
  },
  {
   "cell_type": "code",
   "execution_count": 77,
   "metadata": {
    "scrolled": false
   },
   "outputs": [
    {
     "name": "stdout",
     "output_type": "stream",
     "text": [
      "Inserting COMPLETED!\n"
     ]
    }
   ],
   "source": [
    "# Populate the table with data\n",
    "\n",
    "file = 'event_datafile_new.csv'\n",
    "\n",
    "try:\n",
    "    with open(file, encoding = 'utf8') as f:\n",
    "        csvreader = csv.reader(f)\n",
    "        next(csvreader) # skip header\n",
    "        for line in csvreader:\n",
    "            query = \"INSERT INTO app_history (sessionId, itemInSession, artist, song, length)\"\n",
    "            query = query + \"VALUES (%s, %s, %s, %s, %s)\"           \n",
    "            session.execute(query, (int(line[8]), int(line[3]), line[0], line[9], float(line[5])))\n",
    "        print('Inserting COMPLETED!')\n",
    "except Exception as e:\n",
    "    print(e)"
   ]
  },
  {
   "cell_type": "markdown",
   "metadata": {},
   "source": [
    "#### Query 1: Give me the artist, song title and song's length in the music app history that was heard during sessionId = 338, and itemInSession = 4"
   ]
  },
  {
   "cell_type": "code",
   "execution_count": 78,
   "metadata": {
    "scrolled": true
   },
   "outputs": [
    {
     "data": {
      "text/html": [
       "<div>\n",
       "<style scoped>\n",
       "    .dataframe tbody tr th:only-of-type {\n",
       "        vertical-align: middle;\n",
       "    }\n",
       "\n",
       "    .dataframe tbody tr th {\n",
       "        vertical-align: top;\n",
       "    }\n",
       "\n",
       "    .dataframe thead th {\n",
       "        text-align: right;\n",
       "    }\n",
       "</style>\n",
       "<table border=\"1\" class=\"dataframe\">\n",
       "  <thead>\n",
       "    <tr style=\"text-align: right;\">\n",
       "      <th></th>\n",
       "      <th>Artist</th>\n",
       "      <th>Song</th>\n",
       "      <th>Length</th>\n",
       "    </tr>\n",
       "  </thead>\n",
       "  <tbody>\n",
       "    <tr>\n",
       "      <th>1</th>\n",
       "      <td>Faithless</td>\n",
       "      <td>Music Matters (Mark Knight Dub)</td>\n",
       "      <td>495.307312</td>\n",
       "    </tr>\n",
       "  </tbody>\n",
       "</table>\n",
       "</div>"
      ],
      "text/plain": [
       "      Artist                             Song      Length\n",
       "1  Faithless  Music Matters (Mark Knight Dub)  495.307312"
      ]
     },
     "execution_count": 78,
     "metadata": {},
     "output_type": "execute_result"
    }
   ],
   "source": [
    "query_select1 = \"select artist, song, length from app_history where sessionId=338 and itemInSession=4;\"\n",
    "try:\n",
    "    rows = session.execute(query_select1)\n",
    "    df = pd.DataFrame(rows.current_rows, columns=['Artist', 'Song', 'Length'])\n",
    "    df = df.rename(index = lambda x: x+1)\n",
    "except Exception as e:\n",
    "    print(e)\n",
    "\n",
    "## Display the result\n",
    "df.head()"
   ]
  },
  {
   "cell_type": "markdown",
   "metadata": {},
   "source": [
    "### Query 2. Give me only the following: name of artist, song (sorted by itemInSession) and user (first and last name) for userid = 10, sessionid = 182\n",
    "\n",
    "#### To satisfy the above request, we will need to create a table that contains, the artist column, song column, first name column, last name column and the userId, sessionId and itemInSession as their composite primary key. `userId` and `sessionId` are perfect for the composite partition key, but they also need the itemInSession column to uniquely identify each row.  Since the query requires the data to be sorted by the itemInSession column, it makes a good choice for the composite partition key."
   ]
  },
  {
   "cell_type": "code",
   "execution_count": 79,
   "metadata": {},
   "outputs": [
    {
     "name": "stdout",
     "output_type": "stream",
     "text": [
      "user_playlist CREATED!\n"
     ]
    }
   ],
   "source": [
    "query2 = \"\"\"\n",
    "CREATE TABLE IF NOT EXISTS user_playlist \n",
    "(userId INT, sessionId INT, itemInSession INT, artist TEXT, song TEXT, firstName TEXT, lastName TEXT, \n",
    "PRIMARY KEY((userId, sessionId), itemInSession)) WITH CLUSTERING ORDER BY (itemInSession ASC);\n",
    "\"\"\"\n",
    "try:\n",
    "    session.execute('DROP TABLE IF EXISTS user_playlist;')\n",
    "    session.execute(query2)\n",
    "    print('user_playlist CREATED!')\n",
    "except Exception as e:\n",
    "    print(e)\n",
    "                    "
   ]
  },
  {
   "cell_type": "code",
   "execution_count": 80,
   "metadata": {},
   "outputs": [
    {
     "name": "stdout",
     "output_type": "stream",
     "text": [
      "Inserting user_playlist COMPLETED!\n"
     ]
    }
   ],
   "source": [
    "## Populate the table with data \n",
    "file = 'event_datafile_new.csv'\n",
    "\n",
    "try:\n",
    "    with open(file, encoding = 'utf8') as f:\n",
    "        csvreader = csv.reader(f)\n",
    "        next(csvreader) # skip header\n",
    "        for line in csvreader:\n",
    "            query = \"INSERT INTO user_playlist (userId, sessionId, itemInSession, artist, song, firstName, lastName)\"\n",
    "            query = query + \"VALUES (%s, %s, %s, %s, %s, %s, %s)\"\n",
    "            \n",
    "            session.execute(query, (int(line[10]), int(line[8]), int(line[3]), line[0], line[9], line[1], line[4]))\n",
    "        print('Inserting user_playlist COMPLETED!')\n",
    "except Exception as e:\n",
    "    print(e)"
   ]
  },
  {
   "cell_type": "markdown",
   "metadata": {},
   "source": [
    "#### Query 2: Give me only the following: name of artist, song (sorted by itemInSession) and user (first and last name) for userid = 10, sessionid = 182"
   ]
  },
  {
   "cell_type": "code",
   "execution_count": 81,
   "metadata": {},
   "outputs": [
    {
     "data": {
      "text/html": [
       "<div>\n",
       "<style scoped>\n",
       "    .dataframe tbody tr th:only-of-type {\n",
       "        vertical-align: middle;\n",
       "    }\n",
       "\n",
       "    .dataframe tbody tr th {\n",
       "        vertical-align: top;\n",
       "    }\n",
       "\n",
       "    .dataframe thead th {\n",
       "        text-align: right;\n",
       "    }\n",
       "</style>\n",
       "<table border=\"1\" class=\"dataframe\">\n",
       "  <thead>\n",
       "    <tr style=\"text-align: right;\">\n",
       "      <th></th>\n",
       "      <th>Artist</th>\n",
       "      <th>Song</th>\n",
       "      <th>First Name</th>\n",
       "      <th>Last Name</th>\n",
       "    </tr>\n",
       "  </thead>\n",
       "  <tbody>\n",
       "    <tr>\n",
       "      <th>1</th>\n",
       "      <td>Down To The Bone</td>\n",
       "      <td>Keep On Keepin' On</td>\n",
       "      <td>Sylvie</td>\n",
       "      <td>Cruz</td>\n",
       "    </tr>\n",
       "    <tr>\n",
       "      <th>2</th>\n",
       "      <td>Three Drives</td>\n",
       "      <td>Greece 2000</td>\n",
       "      <td>Sylvie</td>\n",
       "      <td>Cruz</td>\n",
       "    </tr>\n",
       "    <tr>\n",
       "      <th>3</th>\n",
       "      <td>Sebastien Tellier</td>\n",
       "      <td>Kilometer</td>\n",
       "      <td>Sylvie</td>\n",
       "      <td>Cruz</td>\n",
       "    </tr>\n",
       "    <tr>\n",
       "      <th>4</th>\n",
       "      <td>Lonnie Gordon</td>\n",
       "      <td>Catch You Baby (Steve Pitron &amp; Max Sanna Radio...</td>\n",
       "      <td>Sylvie</td>\n",
       "      <td>Cruz</td>\n",
       "    </tr>\n",
       "  </tbody>\n",
       "</table>\n",
       "</div>"
      ],
      "text/plain": [
       "              Artist                                               Song  \\\n",
       "1   Down To The Bone                                 Keep On Keepin' On   \n",
       "2       Three Drives                                        Greece 2000   \n",
       "3  Sebastien Tellier                                          Kilometer   \n",
       "4      Lonnie Gordon  Catch You Baby (Steve Pitron & Max Sanna Radio...   \n",
       "\n",
       "  First Name Last Name  \n",
       "1     Sylvie      Cruz  \n",
       "2     Sylvie      Cruz  \n",
       "3     Sylvie      Cruz  \n",
       "4     Sylvie      Cruz  "
      ]
     },
     "execution_count": 81,
     "metadata": {},
     "output_type": "execute_result"
    }
   ],
   "source": [
    "query_select2 = \"select artist, song, firstName, lastName FROM user_playlist WHERE userId = 10 AND sessionId = 182;\"\n",
    "try:\n",
    "    rows = session.execute(query_select2)\n",
    "    df = pd.DataFrame(rows.current_rows, columns=['Artist', 'Song', 'First Name', 'Last Name'])\n",
    "    df = df.rename(index = lambda x: x+1)\n",
    "except Exception as e:\n",
    "    print(e)\n",
    "\n",
    "## Display the result    \n",
    "df.head()"
   ]
  },
  {
   "cell_type": "markdown",
   "metadata": {},
   "source": [
    "### Query 3. Give me every user name (first and last) in my music app history who listened to the song 'All Hands Against His Own'\n",
    "#### For this query, we only need the first name, last name and song title columns in the table.  Since each columns on their own are not sufficient to act as the primary key of the table, we are combining them together as a composite partition key."
   ]
  },
  {
   "cell_type": "code",
   "execution_count": 82,
   "metadata": {},
   "outputs": [
    {
     "name": "stdout",
     "output_type": "stream",
     "text": [
      "music_history CREATED!\n"
     ]
    }
   ],
   "source": [
    "query3 = \"\"\"\n",
    "CREATE TABLE IF NOT EXISTS music_history \n",
    "(song TEXT, firstName TEXT, lastName TEXT,\n",
    "PRIMARY KEY(song, firstName, lastName)) WITH CLUSTERING ORDER BY (firstName ASC, lastName ASC);\n",
    "\"\"\"\n",
    "try:\n",
    "    session.execute('DROP TABLE IF EXISTS music_history;')\n",
    "    session.execute(query3)\n",
    "    print('music_history CREATED!')\n",
    "except Exception as e:\n",
    "    print(e)"
   ]
  },
  {
   "cell_type": "code",
   "execution_count": 83,
   "metadata": {},
   "outputs": [
    {
     "name": "stdout",
     "output_type": "stream",
     "text": [
      "Inserting music_history COMPLETED!\n"
     ]
    }
   ],
   "source": [
    "file = 'event_datafile_new.csv'\n",
    "\n",
    "try:\n",
    "    with open(file, encoding = 'utf8') as f:\n",
    "        csvreader = csv.reader(f)\n",
    "        next(csvreader) # skip header\n",
    "        for line in csvreader:\n",
    "            ## Prepare and insert data into the Cassandra table\n",
    "            query = \"INSERT INTO music_history (song, firstName, lastName)\"\n",
    "            query = query + \"VALUES (%s, %s, %s)\"\n",
    "            \n",
    "            session.execute(query, (line[9], line[1], line[4]))\n",
    "        print('Inserting music_history COMPLETED!')\n",
    "except Exception as e:\n",
    "    print(e)\n",
    "                    "
   ]
  },
  {
   "cell_type": "markdown",
   "metadata": {},
   "source": [
    "#### Query 3: Give me every user name (first and last) in my music app history who listened to the song 'All Hands Against His Own'"
   ]
  },
  {
   "cell_type": "code",
   "execution_count": 84,
   "metadata": {},
   "outputs": [
    {
     "data": {
      "text/html": [
       "<div>\n",
       "<style scoped>\n",
       "    .dataframe tbody tr th:only-of-type {\n",
       "        vertical-align: middle;\n",
       "    }\n",
       "\n",
       "    .dataframe tbody tr th {\n",
       "        vertical-align: top;\n",
       "    }\n",
       "\n",
       "    .dataframe thead th {\n",
       "        text-align: right;\n",
       "    }\n",
       "</style>\n",
       "<table border=\"1\" class=\"dataframe\">\n",
       "  <thead>\n",
       "    <tr style=\"text-align: right;\">\n",
       "      <th></th>\n",
       "      <th>First Name</th>\n",
       "      <th>Last Name</th>\n",
       "    </tr>\n",
       "  </thead>\n",
       "  <tbody>\n",
       "    <tr>\n",
       "      <th>1</th>\n",
       "      <td>Jacqueline</td>\n",
       "      <td>Lynch</td>\n",
       "    </tr>\n",
       "    <tr>\n",
       "      <th>2</th>\n",
       "      <td>Sara</td>\n",
       "      <td>Johnson</td>\n",
       "    </tr>\n",
       "    <tr>\n",
       "      <th>3</th>\n",
       "      <td>Tegan</td>\n",
       "      <td>Levine</td>\n",
       "    </tr>\n",
       "  </tbody>\n",
       "</table>\n",
       "</div>"
      ],
      "text/plain": [
       "   First Name Last Name\n",
       "1  Jacqueline     Lynch\n",
       "2        Sara   Johnson\n",
       "3       Tegan    Levine"
      ]
     },
     "execution_count": 84,
     "metadata": {},
     "output_type": "execute_result"
    }
   ],
   "source": [
    "query_select3 = \"select firstName, lastName from music_history where song = 'All Hands Against His Own';\"\n",
    "try:\n",
    "    rows = session.execute(query_select3)\n",
    "    df = pd.DataFrame(rows.current_rows, columns=['First Name', 'Last Name'])\n",
    "    df = df.rename(index = lambda x: x+1)\n",
    "except Exception as e:\n",
    "    print(e)\n",
    "    \n",
    "## Display the result\n",
    "df.head()"
   ]
  },
  {
   "cell_type": "markdown",
   "metadata": {},
   "source": [
    "### Drop the tables before closing out the sessions"
   ]
  },
  {
   "cell_type": "code",
   "execution_count": 85,
   "metadata": {},
   "outputs": [],
   "source": [
    "## Drop the table before closing out the sessions\n",
    "try:\n",
    "    rows = session.execute(\"drop table if exists app_history;\")\n",
    "    rows = session.execute(\"drop table if exists user_playlist;\")\n",
    "    rows = session.execute(\"drop table if exists music_history;\")\n",
    "except Exception as e:\n",
    "    print(e)"
   ]
  },
  {
   "cell_type": "markdown",
   "metadata": {},
   "source": [
    "### Close the session and cluster connection¶"
   ]
  },
  {
   "cell_type": "code",
   "execution_count": 86,
   "metadata": {},
   "outputs": [],
   "source": [
    "session.shutdown()\n",
    "cluster.shutdown()"
   ]
  },
  {
   "cell_type": "code",
   "execution_count": null,
   "metadata": {},
   "outputs": [],
   "source": []
  }
 ],
 "metadata": {
  "kernelspec": {
   "display_name": "Python 3",
   "language": "python",
   "name": "python3"
  },
  "language_info": {
   "codemirror_mode": {
    "name": "ipython",
    "version": 3
   },
   "file_extension": ".py",
   "mimetype": "text/x-python",
   "name": "python",
   "nbconvert_exporter": "python",
   "pygments_lexer": "ipython3",
   "version": "3.6.3"
  }
 },
 "nbformat": 4,
 "nbformat_minor": 2
}
